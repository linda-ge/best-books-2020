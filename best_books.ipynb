{
 "cells": [
  {
   "cell_type": "markdown",
   "id": "882814be",
   "metadata": {},
   "source": [
    "# Best Books of 2020\n",
    "Scraping 'Best Books' lists from The New York Times. Using a JSON file from NPR for the same. Looking for 'peer-reviewed' verification via an intersection of lists from organizations that I trust."
   ]
  },
  {
   "cell_type": "markdown",
   "id": "3e28ff02",
   "metadata": {},
   "source": [
    "## Importing Libraries and Data"
   ]
  },
  {
   "cell_type": "code",
   "execution_count": 13,
   "id": "24f240c2",
   "metadata": {},
   "outputs": [],
   "source": [
    "import gzip \n",
    "import io\n",
    "import requests\n",
    "from bs4 import BeautifulSoup\n",
    "import wget\n",
    "import json\n",
    "from pprint import pprint\n",
    " \n",
    "import warnings"
   ]
  },
  {
   "cell_type": "markdown",
   "id": "dc121dfb",
   "metadata": {},
   "source": [
    "### NPR's Best Books of 2020 list\n",
    "Data was found to be nicely-formatted via the front-end API which loaded (what appeared to be) a JSON file, after having inspected the page. "
   ]
  },
  {
   "cell_type": "code",
   "execution_count": 6,
   "id": "fe6bc29a",
   "metadata": {},
   "outputs": [
    {
     "data": {
      "text/plain": [
       "'npr.json'"
      ]
     },
     "execution_count": 6,
     "metadata": {},
     "output_type": "execute_result"
    }
   ],
   "source": [
    "# NPR's Best Books of 2020 List\n",
    "wget.download('https://apps.npr.org/best-books/2020.json', 'npr.json')"
   ]
  },
  {
   "cell_type": "markdown",
   "id": "8c82e2cb",
   "metadata": {},
   "source": [
    "It turns out that this JSON was a GZIP file (despite not having a .gz file extension):"
   ]
  },
  {
   "cell_type": "code",
   "execution_count": 35,
   "id": "ff505971",
   "metadata": {},
   "outputs": [],
   "source": [
    "with gzip.open('npr.json', 'r') as gzip_file:\n",
    "    npr_file = gzip_file.read()\n",
    "\n",
    "npr = json.loads(npr_file)"
   ]
  },
  {
   "cell_type": "code",
   "execution_count": 37,
   "id": "e25eb37e",
   "metadata": {},
   "outputs": [
    {
     "data": {
      "text/plain": [
       "{'title': \"Dancing Man: A Broadway Choreographer's Journey\",\n",
       " 'author': 'Bob Avian with Tom Santopietro',\n",
       " 'dimensions': {'width': 397, 'height': 595},\n",
       " 'cover': '9781496825889',\n",
       " 'tags': ['staff picks',\n",
       "  'nonfiction',\n",
       "  'biography & memoir',\n",
       "  'for music lovers',\n",
       "  'no biz like show biz'],\n",
       " 'id': 1}"
      ]
     },
     "execution_count": 37,
     "metadata": {},
     "output_type": "execute_result"
    }
   ],
   "source": [
    "npr[0]"
   ]
  },
  {
   "cell_type": "code",
   "execution_count": 40,
   "id": "b911beb1",
   "metadata": {},
   "outputs": [
    {
     "name": "stdout",
     "output_type": "stream",
     "text": [
      "There are 383 recommended books by NPR: [\"Dancing Man: A Broadway Choreographer's Journey\", 'American Oligarchs: The Kushners, The Trumps, And The Marriage Of Money And Power', 'A Castle In The Clouds', 'Wagnerism: Art And Politics In The Shadow Of Music', \"The Jakarta Method: Washington's Anticommunist Crusade And The Mass Murder Program That Shaped Our World\", 'Luster: A Novel', 'Caste: The Origins Of Our Discontents', \"A Children's Bible: A Novel\", 'All Because You Matter', 'Black Heroes Of The Wild West', 'Echo Mountain', 'Everybody Counts: A Counting Story From 0 To 7.5 Billion', 'Go With The Flow', 'The Lights And Types Of Ships At Night', 'The Most Beautiful Thing', 'The Talk: Conversations About Race, Love & Truth', 'Twins', 'Wink', 'A Game Of Fox & Squirrels', 'Mad, Bad & Dangerous To Know', 'The Invisible Life Of Addie LaRue', 'The Mermaid, The Witch, And The Sea', 'Burnt Sugar: A Novel', 'No Filter: The Inside Story Of Instagram', 'Race For Profit: How Banks And The Real Estate Industry Undermined Black Homeownership', 'Cooking For One: Scaled Recipes, No-Waste Solutions, And Time-Saving Tips', '13th Balloon', 'How To Carry Water: Selected Poems Of Lucille Clifton', 'Music For The Dead And Resurrected: Poems', 'Postcolonial Love Poem', 'Runaway: New Poems', 'Seeing The Body', 'Apple: (Skin To The Core)', 'Mary And The Trail Of Tears: A Cherokee Removal Survival Story', 'The Barren Grounds: The Misewa Saga', 'Utopia Avenue: A Novel', 'Remembrance', 'Night Letters: Gulbuddin Hekmatyar And The Afghan Islamists Who Changed The World', 'God-Level Knowledge Darts: Life Lessons From The Bronx', 'Barry Sonnenfeld, Call Your Mother: Memoirs Of A Neurotic Filmmaker', 'Here For It: Or, How To Save Your Soul In America', \"Lifting As We Climb: Black Women's Battle For The Ballot Box\", 'Hood Feminism: Notes From The Women That A Movement Forgot', 'Intimations: Six Essays', 'Apsara Engine', 'Fantastic Four: Grand Design', 'Glass Town: The Imaginary World Of The Brontës', 'Black Sunday: A Novel', 'Blackwood', 'Children Of The Land: A Memoir', \"I Don't Want To Die Poor: Essays\", 'I Hold A Wolf By The Ears: Stories', \"MS-13: The Making Of America's Most Notorious Gang\", \"The Boatman's Daughter: A Novel\", 'The Book Of Atlantis Black: The Search For A Sister Gone Missing', 'The Dead Are Arising: The Life Of Malcolm X', 'The Socrates Express: In Search Of Life Lessons From Dead Philosophers', 'Winter Counts: A Novel', 'Magnetized: Conversations With A Serial Killer', 'King And The Dragonflies', 'Unworthy Republic: The Dispossession Of Native Americans And The Road To Indian Territory', 'When Stars Are Scattered', 'The New Map: Energy, Climate And The Clash Of Nations', 'Finna: Poems', 'Homie: Poems', \"Love Child's Hotbed Of Occasional Poetry: Poems & Artifacts\", \"Memorial Drive: A Daughter's Memoir\", 'Survivor Song: A Novel', 'Foreign Bodies: Poems', 'Black Sun', 'Flyaway', 'Hench', 'The Empress Of Salt And Fortune', 'The Once And Future Witches', 'So We Can Glow: Stories', 'The Roommate', 'Transcendent Kingdom: A Novel', 'The Death Of Vivek Oji: A Novel', 'A Good Neighborhood: A Novel', 'Take A Hint, Dani Brown: A Novel', 'When No One Is Watching: A Thriller', 'Mexican Gothic', 'You Never Forget Your First: A Biography Of George Washington', 'Big Friendship: How We Keep Each Other Close', 'Hidden Valley Road: Inside The Mind Of An American Family', 'One To Watch: A Novel', 'This Is One Way To Dance: Essays', 'Leave The World Behind: A Novel', 'You Deserve Each Other', 'Life Of A Klansman: A Family History In White Supremacy', 'Temporary', 'The Cactus League: A Novel', 'How To Wash The Dishes', \"I Want You to Know We're Still Here: A Post-Holocaust Memoir\", 'No Rules Rules: Netflix And The Culture Of Reinvention', 'Trouble The Saints: A Novel', 'Ring Shout', 'Wow, No Thank You.: Essays', 'Sisters: A Novel', 'Whistleblower: My Journey To Silicon Valley And Fight For Justice At Uber', \"Cool Beans: The Ultimate Guide To Cooking With The World's Most Versatile Plant-Based Protein, With 125 Recipes\", 'Simply: Easy Everyday Dishes', 'The Full Plate: Flavor-Filled, Easy Recipes For Families With No Time And A Lot To Do', 'Clean: The New Science Of Skin', 'Where Things Touch: A Meditation On Beauty', 'Recipe For Persuasion: A Novel', 'The Mountains Sing', 'Vesper Flights', 'Loathe At First Sight: A Novel', 'The Boyfriend Project', 'Solutions And Other Problems', 'Breath: The New Science Of A Lost Art', 'Conjure Women: A Novel', 'Roadside Americans: The Rise And Fall Of Hitchhiking In A Changing Nation', 'Up All Night: Ted Turner, CNN, And The Birth Of 24-Hour News', 'Weather: A Novel', 'Blacktop Wasteland: A Novel', 'Summer: A Novel', 'Beowulf: A New Translation', 'The Hidden Girl And Other Stories', 'The Missing American', 'Fauja Singh Keeps Going: The True Story Of The Oldest Person To Ever Run A Marathon', 'Prairie Lotus', 'Show Me A Sign', 'Once I Was You: A Memoir Of Love And Hate In A Torn America', 'Born To Be Public', 'His Very Best: Jimmy Carter, A Life', 'I Will Take The Answer: Essays', 'The Glass Hotel: A Novel', 'The Redshirt: A Novel', 'The Regrets', 'Run Me To Earth', 'The Voyage Of The Morning Light: A Novel', 'Shuggie Bain: A Novel', 'Cemetery Boys', 'Kent State: Four Dead In Ohio', \"Every Reason We Shouldn't\", 'Foul Is Fair: A Novel', 'Dance On Saturday: Stories', 'Elatsoe', 'A Silenced Voice: The Life Of Journalist Kim Wall', 'Funny Weather: Art In An Emergency', 'Notes From An Apocalypse: A Personal Journey To The End Of The World And Back', 'Piranesi', 'Swimming In The Dark: A Novel', \"Why Fish Don't Exist: A Story Of Loss, Love, And The Hidden Order Of Life\", 'Honeybee: The Busy Life Of Apis Mellifera', 'I Talk Like A River', 'Outside In', 'Planet Omar: Accidental Trouble Magnet', 'Snail Crossing', 'Antkind: A Novel', 'How Much Of These Hills Is Gold: A Novel', 'A Song Below Water: A Novel', 'Each Of Us A Desert', 'Ghost Squad', 'Girl Gone Viral: A Novel', 'Party Of Two', 'A Shadow Intelligence', \"Between Two Fires: Truth, Ambition, And Compromise In Putin's Russia\", 'Djinn Patrol On The Purple Line', 'Rust: A Memoir Of Steel And Grit', 'Even As We Breathe: A Novel', 'Overstated: A Coast-to-Coast Roast Of The 50 States', 'Notes On A Case Of Melancholia: Or, A Little Death', 'The Plain Janes', 'Sports Is Hell', 'The Daughters Of Ys', 'Why We Swim', 'World Of Wonders: In Praise Of Fireflies, Whale Sharks, And Other Astonishments', 'Writers & Lovers: A Novel', 'Miss Iceland', \"Owls Of The Eastern Ice: A Quest To Find And Save The World's Largest Owl\", 'Wintering: The Power Of Rest And Retreat In Difficult Times', 'Collective Gravities', 'Dark Blood Comes From The Feet', 'Hearts Of Oak', 'Anna K: A Love Story', 'Headliners: An Enemies-To-Lovers Romance', 'Barn 8: A Novel', 'Obit', 'Thin Places: Essays From In Between', 'Efrén Divided', 'Midnight At The Barclay Hotel', 'Hamnet', 'The Women In Black: A Novel', 'The Care and Feeding Of Waspish Widows', 'Interior Chinatown: A Novel', \"The Wax Pack: On The Open Road In Search Of Baseball's Afterlife\", 'My Best Friend', 'The Blue House', 'The Old Truck', 'You Matter', 'Eat A Peach: A Memoir', 'One Life', 'Shit, Actually: The Definitive, 100% Objective Guide To Modern Cinema', 'All The Way To The Tigers: A Memoir', 'The Autobiography Of Alice B. Toklas Illustrated', 'Here We Are: A Novel', 'The Paper Kingdom', 'This Is My America', 'Inventing Latinos: A New Story Of American Racism', 'Tender Is The Flesh', 'Amnesty: A Novel', 'The Journeys Of Trees: A Story About Forests, People, And The Future', 'Ottolenghi Flavor: A Cookbook', 'Pie Academy: Master The Perfect Crust And 255 Amazing Fillings', 'See You On Sunday: A Cookbook For Family And Friends', '100 Cookies: The Baking Book For Every Kitchen', 'A Burning: A Novel', 'Heart Of Junk: A Novel', 'Beach Read', 'Uncanny Valley: A Memoir', 'To Calais, In Ordinary Time', 'The City We Became: A Novel', 'Legendary Children: The First Decade Of RuPaul’s Drag Race And The Last Century Of Queer Life', 'New Waves: A Novel', 'Having And Being Had', 'We Ride Upon Sticks: A Novel', 'Everything Sad Is Untrue: (A True Story)', 'Just Us: An American Conversation', 'Sexual Citizens: A Landmark Study Of Sex, Power, And Assault On Campus', 'The Other Bennet Sister: A Novel', 'They Went Left', 'The Midnight Bargain', 'The Space Between Worlds', 'Anxious People: A Novel', 'Ghosting The News: Local Journalism And The Crisis Of American Democracy', 'The Night Watchman', 'We Are Water Protectors', 'Sisters In Hate: American Women On The Front Lines Of White Nationalism', 'Capital And Ideology', 'Hanging Tree Guitars', 'Race Against Time: A Reporter Reopens The Unsolved Murder Cases Of The Civil Rights Era', 'The Deepest South Of All: True Stories From Natchez, Mississippi', \"Broken Faith: Inside The Word Of Faith Fellowship, One Of America's Most Dangerous Cults\", 'Clap When You Land', 'Stamped: Racism, Antiracism, And You', 'Hoax: Donald Trump, Fox News, And The Dangerous Distortion Of Truth', 'The Searcher: A Novel', 'The Age Of Phillis', 'The Shadow King', 'And I Do Not Forgive You: Stories And Other Revenges', 'Bestiary: A Novel', 'Crooked Hallelujah', 'High As The Waters Rise: A Novel', 'Homeland Elegies: A Novel', 'Lakewood: A Novel', 'The Freedom Artist', 'Tomboyland: Essays', \"Yellow Bird: Oil, Murder, And A Woman's Search For Justice In Indian Country\", 'The New Wilderness', \"Father Of Lions: One Man's Remarkable Quest To Save Mosul's Zoo\", 'Sisters Of The War: Two Remarkable True Stories Of Survival And Hope In Syria', 'Mutations: The Many Strange Faces Of Hardcore Punk', 'Rust Belt Femme', 'The Heap: A Novel', 'The Human Cosmos: Civilization And The Stars', 'The Lost Book Of Adana Moreau: A Novel', 'Upright Women Wanted', 'Empire Of Wild: A Novel', 'Harrow The Ninth', 'Little Eyes: A Novel', 'Shiner: A Novel', 'The Worst Best Man', 'Cleanness', 'Godshot: A Novel', 'Unspeakable Acts: True Tales Of Crime, Murder, Deceit, And Obsession', 'Want: A Novel', 'Cool Town: How Athens, Georgia, Launched Alternative Music And Changed American Culture', 'Wonder Woman: Dead Earth', 'Catherine House: A Novel', 'Days Of Distraction: A Novel', 'Followers: A Novel', 'If I Had Your Face: A Novel', 'The Only Good Indians', 'Flamer', 'Larger Than Life: A History Of Boy Bands From NKOTB To BTS', 'Almost American Girl: An Illustrated Memoir', 'What Are You Going Through: A Novel', 'Something To Talk About', 'Glitter Up the Dark: How Pop Music Broke The Binary', 'My Autobiography Of Carson McCullers: A Memoir', 'At Night All Blood Is Black: A Novel', 'Blood On The River: A Chronicle Of Mutiny And Freedom On The Wild Coast', 'Counterpoint: A Memoir Of Bach And Mourning', 'Later: My Life At The Edge Of The World', 'The Book Collectors: A Band Of Syrian Rebels And The Stories That Carried Them Through A War', 'The Book Of V.: A Novel', 'Black Bottom Saints: A Novel', 'Monogamy: A Novel', 'The Rakess', 'Like A Bird', 'Something That May Shock And Discredit You', 'Falastin: A Cookbook', 'Ten Ways To Hear Snow', 'Banned Book Club', 'Desert Notebooks: A Road Map For The End Of Time', 'Red Pill: A Novel', 'The Sprawl: Reconsidering The Weird American Suburbs', 'Moms', \"The Apple Lover's Cookbook: Revised And Updated\", 'The Look Of The Book: Jackets, Covers, And Art At The Edges Of Literature', 'The Malevolent Volume', 'Gabrielle Chanel: Fashion Manifesto', 'The Vanishing Half: A Novel', 'Missionaries: A Novel', 'Alien Oceans: The Search For Life In The Depths Of Space', 'My Town: An Artist’s Life In London', \"I Got A Monster: The Rise And Fall Of America's Most Corrupt Police Squad\", \"X+Y: A Mathematician's Manifesto For Rethinking Gender\", 'Members Only', 'Ace: What Asexuality Reveals About Desire, Society, And The Meaning Of Sex', 'What Can A Body Do?: How We Meet The Built World', 'Dirt: Adventures In Lyon As A Chef In Training, Father, And Sleuth Looking For The Secret Of French Cooking', 'Moonflower Murders: A Novel', 'Before The Ever After', 'Dear Justyce', 'Eat The Buddha: Life And Death In A Tibetan Town', 'I Am Every Good Thing', 'Ikenga', 'Memorial: A Novel', 'Pizza Girl: A Novel', 'Sex And Vanity: A Novel', 'Super Fake Love Song', \"Neon Girls: A Stripper's Education In Protest And Power\", 'Political Sign (Object Lessons)', 'The Chiffon Trenches: A Memoir', 'The Undocumented Americans', 'Cook With Me: 150 Recipes For The Home Cook', 'East: 120 Vegan And Vegetarian Recipes From Bangalore To Beijing', 'Quick & Delicious: 100 Recipes To Cook In 30 Minutes Or Less', 'Scorpionfish', 'Dancing After TEN', 'Family In Six Tones: A Refugee Mother, An American Daughter', 'Kim Jiyoung, Born 1982: A Novel', 'Year Of The Rabbit', 'Dessert Person: Recipes And Guidance For Baking With Confidence', 'Dinner In French: My Recipes By Way Of France', 'The Splendid And The Vile: A Saga Of Churchill, Family, And Defiance During The Blitz', 'Tokyo Ueno Station: A Novel', 'Where The Wild Ladies Are', 'You Want More: Selected Stories Of George Singleton', 'Network Effect: A Murderbot Novel', 'Raybearer', 'Slippery Creatures', 'Snapped', 'The Faithless Hawk', 'The Last Emperox', 'Me And White Supremacy: Combat Racism, Change The World, And Become A Good Ancestor', 'An Incomplete List Of Names', 'Hood Criatura', 'Everything Man: The Form And Function Of Paul Robeson', 'The Meaning Of Mariah Carey', 'Looking To Get Lost: Adventures In Music And Writing', 'Jack: A Novel', 'Long Bright River: A Novel', 'Real Life: A Novel', 'Such A Fun Age', 'The List Of Things That Will Not Change', 'The Mirror & The Light', 'Minor Feelings: An Asian American Reckoning', 'Rural Voices: 15 Authors Challenge Assumptions About Small-Town America', 'The Things They Fancied', 'The Lying Life Of Adults', 'The Pull Of The Stars: A Novel', 'Deacon King Kong: A Novel', 'The Riches Of This Land', 'When The Light Of The World Was Subdued, Our Songs Came Through: A Norton Anthology Of Native Nations Poetry', 'A Promised Land', \"In Bibi's Kitchen: The Recipes And Stories Of Grandmothers From The Eight African Countries That Touch The Indian Ocean\", 'Notes On A Silencing: A Memoir', 'Rodham: A Novel', 'Mosquito Supper Club: Cajun Recipes From A Disappearing Bayou', 'New World Sourdough: Artisan Techniques For Creative Homemade Fermented Breads', 'One Night Two Souls Went Walking', 'Creatures: A Novel', 'Processed Cheese: A Novel', 'Agency', 'Riot Baby', 'Conditional Citizens: On Belonging In America', \"The Last Million: Europe's Displaced Persons From World War To Cold War\", 'Perestroika In Paris: A Novel']\n"
     ]
    }
   ],
   "source": [
    "npr_books = []\n",
    "for item in npr:\n",
    "    book_name = item['title'.strip()]\n",
    "    book_name = book_name.replace('\\xa0','')\n",
    "    npr_books.append(book_name)\n",
    "    \n",
    "print('There are', len(npr_books), 'recommended books by NPR:', npr_books)"
   ]
  },
  {
   "cell_type": "markdown",
   "id": "fb2361a0",
   "metadata": {},
   "source": [
    "### The New York Times 100 Notable Books of 2020\n",
    "There was no API here, so I had to scrape."
   ]
  },
  {
   "cell_type": "code",
   "execution_count": 42,
   "id": "2cbd5a95",
   "metadata": {},
   "outputs": [],
   "source": [
    "# NYT 100 Notable Books of 2020\n",
    "NYT = 'https://www.nytimes.com/interactive/2020/books/notable-books.html'\n",
    "NYT_list = requests.get(NYT)\n",
    "NYT_soup = BeautifulSoup(NYT_list.content, 'html.parser')\n",
    "NYT_soup_1 = NYT_soup.body"
   ]
  },
  {
   "cell_type": "code",
   "execution_count": 48,
   "id": "14d8d8c3",
   "metadata": {
    "scrolled": true
   },
   "outputs": [
    {
     "name": "stdout",
     "output_type": "stream",
     "text": [
      "There are 100 recommended books by The New York Times: ['The Aosawa Murders', 'The Beauty in Breaking: A Memoir', 'The Beauty of Your Face', 'Becoming Wild: How Animal Cultures Raise Families, Create Beauty, and Achieve Peace', 'Beheld', 'The Biggest Bluff: How I Learned to Pay Attention, Master Myself, and Win', 'Black Wave: Saudi Arabia, Iran, and the Forty-Year Rivalry That Unraveled Culture, Religion, and Collective Memory in the Middle East', 'Blacktop Wasteland', 'The Book of Eels: Our Enduring Fascination With the Most Mysterious Creature in the Natural World', 'The Boy In The Field', 'Breasts and Eggs', 'A Burning', 'Burning Down the House: Newt Gingrich, the Fall of a Speaker, and the Rise of the New Republican Party', 'Caste: The Origins of our Discontents', \"A Children's Bible\", 'Cleanness', 'Deacon King Kong', 'The Dead Are Arising: The Life of Malcolm X', 'The Death of Jesus', 'The Death of Vivek Oji', 'Deaths of Despair and the Future of Capitalism', 'Desert Notebooks: A Road Map for the End of Time', 'Djinn Patrol on the Purple Line', 'A Dominant Character: The Radical Science and Restless Politics of J. B. S. Haldane', 'The Dragons, the Giant, the Women: A Memoir', \"The Duke Who Didn't\", 'Earthlings', 'Eat the Buddha: Life and Death in a Tibetan Town', 'The End of Everything: (Astrophysically Speaking)', \"Everywhere You Don't Belong\", 'Exercise of Power: American Failures, Successes, and a New Path Forward in the Post-Cold War World', 'Fallout: The Hiroshima Cover-Up and the Reporter Who Revealed It to the World', 'Feed', 'Felon: Poems', 'The Glass Kingdom', 'The Hardhat Riot: Nixon, New York City, and the Dawn of the White Working-Class Revolution', 'Hamnet', 'Hidden Valley Road: Inside the Mind of an American Family', 'His Only Wife', 'Homeland Elegies', 'How Much of These Hills Is Gold', 'Hurricane Season', 'The Inevitability of Tragedy: Henry Kissinger and His World', 'Jack', 'Just Us: An American Conversation', 'Kim Jiyoung, Born 1982', 'The King at the Edge of the World', 'Little Eyes', 'The Loneliness of the Long-Distance Cartoonist', 'Luster', 'Man of My Time', 'The Man Who Ran Washington: The Life and Times of James A. Baker III', 'Memorial', 'Memorial Drive: A Memoir', 'The Memory Monster', 'The Mercies', 'Minor Detail', 'The Mirror & the Light', 'Missionaries', 'Monogamy', '97,196 Words: Essays', 'Notes on a Silencing: A Memoir', 'Obit: Poems', 'Overground Railroad: The Green Book and the Roots of Black Travel in America', 'Owls of the Eastern Ice: A Quest to Find and Save the World’s Largest Owl', 'A Peculiar Indifference: The Neglected Toll of Violence on Black America', 'A Pilgrimage to Eternity: From Canterbury to Rome in Search of a Faith', 'A Promised Land', 'The Quiet Americans: Four CIA Spies at the Dawn of the Cold War — a Tragedy in Three Acts', 'Reaganland: America’s Right Turn, 1976-1980', 'Real Life', 'Red Pill', 'The Saddest Words: William Faulkner’s Civil War', 'Saint X', 'Sea Wife', 'The Selected Letters of Ralph Ellison', 'Shakespeare in a Divided America: What His Plays Tell Us About Our Past and Future', 'Sharks in the Time of Saviors', 'Shuggie Bain', 'The Sirens of Mars: Searching for Life on Another World', 'Sisters', 'Soul Full of Coal Dust: A Fight for Breath and Justice in Appalachia', 'The Splendid and the Vile: A Saga of Churchill, Family, and Defiance During the Blitz', 'The Third Rainbow Girl: The Long Life of a Double Murder in Appalachia', 'This Is All I Got: A New Mother’s Search for Home', 'Tokyo Ueno Station', 'The Tunnel', 'Uncanny Valley: A Memoir', 'The Undocumented Americans', 'Until the End of Time: Mind, Matter, and Our Search for Meaning in an Evolving Universe', 'The Vanishing Half', 'The Vapors: A Southern Family, the New York Mob, and the Rise and Fall of Hot Springs, America’s Forgotten Capital of Vice', 'Wagnerism: Art and Politics in the Shadow of Music', 'War: How Conflict Shaped Us', 'The Weirdest People in the World: How the West Became Psychologically Peculiar and Particularly Prosperous', 'Who Gets in and Why: A Year Inside College Admissions', \"Why I Don't Write: And Other Stories\", 'A Woman Like Her: The Story Behind the Honor Killing of a Social Media Star', 'Writers & Lovers', 'Yellow Bird: Oil, Murder, and a Woman’s Search for Justice in Indian Country']\n"
     ]
    }
   ],
   "source": [
    "NYT_books = []\n",
    "book_title_list = NYT_soup_1.find_all('div', attrs={'class': 'g-book-title balance-text'})\n",
    "\n",
    "for item in book_title_list:\n",
    "    book_name = item.a.text.strip()\n",
    "    book_name = book_name.replace('\\n','')\n",
    "    NYT_books.append(book_name)\n",
    "    \n",
    "print('There are', len(NYT_books), 'recommended books by The New York Times:', NYT_books)"
   ]
  },
  {
   "cell_type": "markdown",
   "id": "25c68483",
   "metadata": {},
   "source": [
    "### Finding Books Mentioned on Both Lists\n",
    "I converted each Python array into a set. If we're keeping track of runtime complexity (these are both very small lists so it doesn't matter), iterating over the list was O(n) and adding each element to the set was O(1). With two lists of length m and length n, the operation is O(max(m,n)) runtime which simplifies to O(n).\n",
    "\n",
    "Checking for the set intersection was O(min(m,n)), since the operation is complete after all elements have been checked in the smaller set. Checking if an element is a member of the other set is O(1). The operation has a runtime of O(min(m,n)) * O(1), which then simplifies to O(n). \n",
    "\n",
    "Overall, this simplifies to O(n)."
   ]
  },
  {
   "cell_type": "code",
   "execution_count": 66,
   "id": "b5ae98d4",
   "metadata": {},
   "outputs": [
    {
     "name": "stdout",
     "output_type": "stream",
     "text": [
      "6 options mentioned between NPR and The NYT: {'Uncanny Valley: A Memoir', 'Cleanness', 'The Undocumented Americans', 'Just Us: An American Conversation', 'Hamnet', 'A Promised Land'}\n"
     ]
    }
   ],
   "source": [
    "npr_books = set(npr_books)\n",
    "NYT_books = set(NYT_books)\n",
    "combined_list = npr_books & NYT_books\n",
    "\n",
    "print(len(combined_list),'options mentioned between NPR and The NYT:', combined_list)"
   ]
  }
 ],
 "metadata": {
  "kernelspec": {
   "display_name": "Python 3",
   "language": "python",
   "name": "python3"
  },
  "language_info": {
   "codemirror_mode": {
    "name": "ipython",
    "version": 3
   },
   "file_extension": ".py",
   "mimetype": "text/x-python",
   "name": "python",
   "nbconvert_exporter": "python",
   "pygments_lexer": "ipython3",
   "version": "3.9.4"
  }
 },
 "nbformat": 4,
 "nbformat_minor": 5
}
